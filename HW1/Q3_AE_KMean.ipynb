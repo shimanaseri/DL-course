{
  "cells": [
    {
      "cell_type": "markdown",
      "source": [
        "# AE"
      ],
      "metadata": {
        "id": "vMPeasvXAUOg"
      }
    },
    {
      "cell_type": "code",
      "execution_count": 1,
      "metadata": {
        "id": "1zQPduBMoISM"
      },
      "outputs": [],
      "source": [
        "import torch\n",
        "import torch.nn as nn\n",
        "import torch.optim as optim\n",
        "import torchvision\n",
        "import torchvision.transforms as transforms\n",
        "import matplotlib.pyplot as plt\n",
        "\n",
        "# Define the AutoEncoder class\n",
        "class AutoEncoder(nn.Module):\n",
        "    def __init__(self):\n",
        "        super(AutoEncoder, self).__init__()\n",
        "        # Encoder layers (as defined in your original architecture)\n",
        "        self.encoder = nn.Sequential(\n",
        "            nn.Linear(784, 512),\n",
        "            nn.ReLU(),\n",
        "            nn.Tanh(),\n",
        "            nn.Linear(512, 128),\n",
        "            nn.ReLU(),\n",
        "            nn.Tanh(),\n",
        "            nn.Linear(128, 32),\n",
        "            nn.Tanh(),\n",
        "            nn.Linear(32, 10)\n",
        "        )\n",
        "        # Decoder layers (as defined in your original architecture)\n",
        "        self.decoder = nn.Sequential(\n",
        "            nn.Linear(10, 32),\n",
        "            nn.Tanh(),\n",
        "            nn.Linear(32, 128),\n",
        "            nn.Tanh(),\n",
        "            nn.Linear(128, 512),\n",
        "            nn.Tanh(),\n",
        "            nn.Linear(512, 784),\n",
        "            nn.Sigmoid()\n",
        "        )\n",
        "\n",
        "    def forward(self, x):\n",
        "        encoded = self.encoder(x)\n",
        "        decoded = self.decoder(encoded)\n",
        "        return decoded\n",
        "\n",
        "# Load MNIST dataset\n",
        "transform = transforms.Compose([transforms.ToTensor()])\n",
        "mnist_dataset = torchvision.datasets.MNIST(root='./data', train=True, transform=transform, download=True)\n",
        "train_loader = torch.utils.data.DataLoader(mnist_dataset, batch_size=64, shuffle=True)\n"
      ]
    },
    {
      "cell_type": "code",
      "source": [
        "from sklearn import preprocessing\n",
        "import numpy as np\n",
        "class CustomLoss2(nn.Module):\n",
        "    def __init__(self, alpha=0.00001):\n",
        "        super(CustomLoss2, self).__init__()\n",
        "        self.alpha = alpha\n",
        "\n",
        "    def forward(self, y_true, y_pred, weights, encoder):\n",
        "        weights = torch.from_numpy(weights)\n",
        "        loss = weights * ((y_true - y_pred) ** 2)\n",
        "        l2_reg = 0.0\n",
        "        for param in encoder.parameters():\n",
        "            l2_reg += torch.sum(param ** 2)\n",
        "        total_loss = torch.mean(loss) + self.alpha * l2_reg\n",
        "        return total_loss\n",
        "\n",
        "\n",
        "\n",
        "def compute_w(data, label):\n",
        "    w = np.zeros(784)\n",
        "    for i in range(784):\n",
        "        for j in range(100):\n",
        "            for k in range(100):\n",
        "\n",
        "                data_j = data[j][0].numpy().flatten()\n",
        "                data_k = data[k][0].numpy().flatten()\n",
        "\n",
        "                if label[j] == label[k]:\n",
        "                    w[i] += np.exp(-(data_j[i] - data_k[i]) ** 2)\n",
        "                else:\n",
        "                    w[i] += 1 - np.exp(-(data_j[i] - data_k[i]) ** 2)\n",
        "    w = preprocessing.normalize([w])\n",
        "    return w\n",
        "\n"
      ],
      "metadata": {
        "id": "laSLbh74ZW6l"
      },
      "execution_count": 12,
      "outputs": []
    },
    {
      "cell_type": "code",
      "execution_count": 11,
      "metadata": {
        "id": "8xTFtvcprD_F"
      },
      "outputs": [],
      "source": [
        "import torchvision.transforms as transforms\n",
        "import matplotlib.pyplot as plt\n",
        "from sklearn.model_selection import train_test_split\n",
        "\n",
        "# Load MNIST dataset\n",
        "transform = transforms.Compose([transforms.ToTensor()])\n",
        "mnist_dataset = torchvision.datasets.MNIST(root='./data', train=True, transform=transform, download=True)\n",
        "\n",
        "# Split the dataset into training and validation sets\n",
        "train_data, valid_data = train_test_split(mnist_dataset, test_size=0.25, random_state=42)\n",
        "\n",
        "# Define DataLoader for training and validation sets\n",
        "train_loader = torch.utils.data.DataLoader(train_data, batch_size=32, shuffle=True)\n",
        "valid_loader = torch.utils.data.DataLoader(valid_data, batch_size=32, shuffle=False)\n",
        "\n",
        "train_labels = [label for _, label in train_data]\n",
        "valid_labels = [label for _, label in valid_data]\n",
        "# Initialize the auto-encoder\n",
        "autoencoder = AutoEncoder()\n",
        "\n",
        "\n",
        "train_weights=compute_w(train_data,train_labels)\n",
        "valid_weights=compute_w(valid_data,valid_labels)\n"
      ]
    },
    {
      "cell_type": "code",
      "source": [
        "# Define loss function and optimizer\n",
        "criterion =CustomLoss2(alpha=0.00001)\n",
        "optimizer = optim.Adam(autoencoder.parameters(), lr=0.00008)\n",
        "\n",
        "# Training loop\n",
        "num_epochs = 50\n",
        "train_losses = []\n",
        "valid_losses = []\n",
        "import time\n",
        "for epoch in range(num_epochs):\n",
        "    start_time = time.time()\n",
        "    autoencoder.train()\n",
        "    train_loss = 0.0\n",
        "    for data in train_loader:\n",
        "        inputs, _ = data\n",
        "        optimizer.zero_grad()\n",
        "        outputs = autoencoder(inputs.view(inputs.size(0), -1))\n",
        "        loss = criterion(outputs, inputs.view(inputs.size(0), -1),train_weights, autoencoder.encoder)\n",
        "        loss.backward()\n",
        "        optimizer.step()\n",
        "        train_loss += loss.item()\n",
        "    train_loss /= len(train_loader)\n",
        "    train_losses.append(train_loss)\n",
        "\n",
        "    autoencoder.eval()\n",
        "    valid_loss = 0.0\n",
        "    correct = 0\n",
        "    total = 0\n",
        "    with torch.no_grad():\n",
        "        for data in valid_loader:\n",
        "            inputs, _ = data\n",
        "            outputs = autoencoder(inputs.view(inputs.size(0), -1))\n",
        "            loss = criterion(outputs, inputs.view(inputs.size(0), -1),valid_weights, autoencoder.encoder)\n",
        "            valid_loss += loss.item()\n",
        "\n",
        "    valid_loss /= len(valid_loader)\n",
        "    valid_losses.append(valid_loss)\n",
        "    end_time = time.time()\n",
        "    training_time = end_time - start_time\n",
        "    print(f'Epoch [{epoch + 1}/{num_epochs}] - Train Loss: {train_loss:.6f}, Valid Loss: {valid_loss:.6f}, {training_time:.2f} seconds')\n"
      ],
      "metadata": {
        "colab": {
          "base_uri": "https://localhost:8080/"
        },
        "id": "rGX2DQ5ve9oY",
        "outputId": "9a3069cf-9584-4e8f-c9dd-5be5866aa6b0"
      },
      "execution_count": null,
      "outputs": [
        {
          "output_type": "stream",
          "name": "stdout",
          "text": [
            "Epoch [1/50] - Train Loss: 0.003618, Valid Loss: 0.003046, 27.47 seconds\n",
            "Epoch [2/50] - Train Loss: 0.002999, Valid Loss: 0.002972, 32.66 seconds\n",
            "Epoch [3/50] - Train Loss: 0.002929, Valid Loss: 0.002911, 37.71 seconds\n",
            "Epoch [4/50] - Train Loss: 0.002849, Valid Loss: 0.002818, 39.04 seconds\n",
            "Epoch [5/50] - Train Loss: 0.002766, Valid Loss: 0.002744, 43.40 seconds\n",
            "Epoch [6/50] - Train Loss: 0.002703, Valid Loss: 0.002694, 48.56 seconds\n",
            "Epoch [7/50] - Train Loss: 0.002659, Valid Loss: 0.002661, 50.67 seconds\n",
            "Epoch [8/50] - Train Loss: 0.002626, Valid Loss: 0.002642, 51.41 seconds\n",
            "Epoch [9/50] - Train Loss: 0.002601, Valid Loss: 0.002609, 53.68 seconds\n",
            "Epoch [10/50] - Train Loss: 0.002579, Valid Loss: 0.002592, 58.32 seconds\n",
            "Epoch [11/50] - Train Loss: 0.002556, Valid Loss: 0.002575, 58.17 seconds\n",
            "Epoch [12/50] - Train Loss: 0.002544, Valid Loss: 0.002555, 61.41 seconds\n",
            "Epoch [13/50] - Train Loss: 0.002521, Valid Loss: 0.002534, 62.39 seconds\n",
            "Epoch [14/50] - Train Loss: 0.002512, Valid Loss: 0.002537, 63.63 seconds\n",
            "Epoch [15/50] - Train Loss: 0.002497, Valid Loss: 0.002520, 63.47 seconds\n",
            "Epoch [16/50] - Train Loss: 0.002492, Valid Loss: 0.002517, 64.05 seconds\n",
            "Epoch [17/50] - Train Loss: 0.002482, Valid Loss: 0.002496, 63.33 seconds\n",
            "Epoch [18/50] - Train Loss: 0.002463, Valid Loss: 0.002494, 63.65 seconds\n",
            "Epoch [19/50] - Train Loss: 0.002462, Valid Loss: 0.002486, 64.44 seconds\n",
            "Epoch [20/50] - Train Loss: 0.002451, Valid Loss: 0.002469, 64.16 seconds\n",
            "Epoch [21/50] - Train Loss: 0.002438, Valid Loss: 0.002456, 63.80 seconds\n",
            "Epoch [22/50] - Train Loss: 0.002427, Valid Loss: 0.002450, 63.52 seconds\n",
            "Epoch [23/50] - Train Loss: 0.002420, Valid Loss: 0.002439, 62.91 seconds\n",
            "Epoch [24/50] - Train Loss: 0.002410, Valid Loss: 0.002434, 84.43 seconds\n",
            "Epoch [25/50] - Train Loss: 0.002408, Valid Loss: 0.002425, 107.57 seconds\n",
            "Epoch [26/50] - Train Loss: 0.002393, Valid Loss: 0.002416, 88.47 seconds\n",
            "Epoch [27/50] - Train Loss: 0.002387, Valid Loss: 0.002421, 66.10 seconds\n"
          ]
        }
      ]
    },
    {
      "cell_type": "code",
      "source": [
        "# Plot the training and validation loss\n",
        "plt.plot(train_losses, label='Train Loss')\n",
        "plt.plot(valid_losses, label='Valid Loss')\n",
        "plt.xlabel('Epoch')\n",
        "plt.ylabel('Loss')\n",
        "plt.legend()\n",
        "plt.show()"
      ],
      "metadata": {
        "id": "5G0xgwXkbMxS"
      },
      "execution_count": null,
      "outputs": []
    },
    {
      "cell_type": "markdown",
      "source": [
        "## AE testing"
      ],
      "metadata": {
        "id": "crzviPXjAYkY"
      }
    },
    {
      "cell_type": "code",
      "execution_count": 6,
      "metadata": {
        "colab": {
          "base_uri": "https://localhost:8080/",
          "height": 364
        },
        "id": "Vbik4qk0Gmpg",
        "outputId": "8ae18eda-1000-4c96-fed5-6be8341d6708"
      },
      "outputs": [
        {
          "output_type": "display_data",
          "data": {
            "text/plain": [
              "<Figure size 800x400 with 2 Axes>"
            ],
            "image/png": "[encoded data removed]"
          },
          "metadata": {}
        }
      ],
      "source": [
        "import torch\n",
        "import torchvision\n",
        "import matplotlib.pyplot as plt\n",
        "import random\n",
        "\n",
        "\n",
        "# Set the model to evaluation mode\n",
        "autoencoder.eval()\n",
        "\n",
        "transform = torchvision.transforms.Compose([torchvision.transforms.ToTensor()])\n",
        "mnist_dataset = torchvision.datasets.MNIST(root='./data', train=False, transform=transform, download=True)\n",
        "\n",
        "data_loader = torch.utils.data.DataLoader(mnist_dataset, batch_size=32, shuffle=True)\n",
        "\n",
        "# Encode and reconstruct a random data sample\n",
        "random_sample = random.choice(mnist_dataset)\n",
        "original_image, _ = random_sample\n",
        "original_image = original_image.view(1, -1)\n",
        "reconstructed_image = autoencoder(original_image).view(28, 28)\n",
        "\n",
        "# Plot the original and reconstructed images\n",
        "plt.figure(figsize=(8, 4))\n",
        "plt.subplot(1, 2, 1)\n",
        "plt.title('Original Image')\n",
        "plt.imshow(original_image.view(28, 28).numpy(), cmap='gray')\n",
        "\n",
        "plt.subplot(1, 2, 2)\n",
        "plt.title('Reconstructed Image')\n",
        "plt.imshow(reconstructed_image.detach().numpy(), cmap='gray')\n",
        "\n",
        "plt.show()\n",
        "\n"
      ]
    },
    {
      "cell_type": "markdown",
      "source": [
        "# Kmean clustreing"
      ],
      "metadata": {
        "id": "nE4e_6YBAcNV"
      }
    },
    {
      "cell_type": "markdown",
      "source": [
        "## Encoded data"
      ],
      "metadata": {
        "id": "WT-Nc8nxAf8c"
      }
    },
    {
      "cell_type": "code",
      "execution_count": 7,
      "metadata": {
        "colab": {
          "base_uri": "https://localhost:8080/"
        },
        "id": "qPGnxRBY00L6",
        "outputId": "149c93dc-8d2f-4736-a94a-fda2e5366246"
      },
      "outputs": [
        {
          "output_type": "stream",
          "name": "stdout",
          "text": [
            "Adjusted Rand Index (ARI): 0.0230\n"
          ]
        }
      ],
      "source": [
        "import torch\n",
        "import numpy as np\n",
        "from sklearn.cluster import KMeans\n",
        "from sklearn.metrics import adjusted_rand_score, adjusted_mutual_info_score, silhouette_score, calinski_harabasz_score, davies_bouldin_score\n",
        "\n",
        "\n",
        "trained_encoder= autoencoder.encoder\n",
        "trained_encoder.eval()\n",
        "\n",
        "# Define a function to encode the data using the trained encoder\n",
        "def encode_data(encoder, data_loader):\n",
        "    encoded_data = []\n",
        "    for data in data_loader:\n",
        "        inputs, _ = data\n",
        "        with torch.no_grad():\n",
        "            encoded = encoder(inputs.view(inputs.size(0), -1)).cpu().numpy()\n",
        "        encoded_data.append(encoded)\n",
        "    return np.vstack(encoded_data)\n",
        "\n",
        "train_encoded_data = encode_data(trained_encoder, train_loader)\n",
        "valid_encoded_data = encode_data(trained_encoder, valid_loader)\n",
        "\n",
        "# Merge the encoded training and validation data\n",
        "merged_encoded_data = np.vstack((train_encoded_data, valid_encoded_data))\n",
        "\n",
        "# Apply K-Means clustering\n",
        "num_clusters = 10  # Assuming you want to cluster into 10 classes (for MNIST)\n",
        "kmeans = KMeans(n_clusters=num_clusters, random_state=42, n_init=10)\n",
        "cluster_labels_encode = kmeans.fit_predict(merged_encoded_data)\n",
        "\n",
        "# Evaluate the clustering using adjusted Rand index (ARI) and adjusted mutual information (AMI)\n",
        "true_labels = [label for _, label in train_data] + [label for _, label in valid_data]\n",
        "ari = adjusted_rand_score(true_labels, cluster_labels_encode)\n",
        "\n",
        "print(f'Adjusted Rand Index (ARI): {ari:.4f}')\n"
      ]
    },
    {
      "cell_type": "markdown",
      "source": [
        "## Raw Data"
      ],
      "metadata": {
        "id": "WVrt-X4OAiln"
      }
    },
    {
      "cell_type": "code",
      "execution_count": 8,
      "metadata": {
        "colab": {
          "base_uri": "https://localhost:8080/"
        },
        "id": "U75SFYmI2mNF",
        "outputId": "2ac4b0e5-6818-4cad-8342-521fb18f9595"
      },
      "outputs": [
        {
          "output_type": "stream",
          "name": "stdout",
          "text": [
            "Adjusted Rand Index (ARI): 0.3607\n"
          ]
        }
      ],
      "source": [
        "from sklearn.metrics import explained_variance_score, silhouette_score, pairwise_distances_argmin_min\n",
        "from sklearn.feature_extraction.image import extract_patches_2d\n",
        "from sklearn.feature_extraction.image import reconstruct_from_patches_2d\n",
        "\n",
        "merged_data = torch.utils.data.ConcatDataset([train_data, valid_data])\n",
        "\n",
        "# Extract the images and labels\n",
        "images, labels = zip(*merged_data)\n",
        "\n",
        "# Convert images to NumPy array\n",
        "images = np.array([img.numpy().flatten() for img in images])\n",
        "\n",
        "# Apply K-Means clustering to the raw data\n",
        "num_clusters = 10  # Assuming you want to cluster into 10 classes (for MNIST)\n",
        "kmeans = KMeans(n_clusters=num_clusters, random_state=0, n_init=10)\n",
        "cluster_labels = kmeans.fit_predict(images)\n",
        "\n",
        "# Calculate the Adjusted Rand Index (ARI)\n",
        "true_labels = [label for _, label in merged_data]\n",
        "ari = adjusted_rand_score(true_labels, cluster_labels)\n",
        "\n",
        "print(f'Adjusted Rand Index (ARI): {ari:.4f}')\n"
      ]
    },
    {
      "cell_type": "code",
      "source": [
        "from sklearn.metrics import silhouette_score, calinski_harabasz_score, davies_bouldin_score\n",
        "\n",
        "# Calculate silhouette score\n",
        "silhouette = silhouette_score(images, true_labels)\n",
        "print(\"Silhouette Score of main data:\", silhouette)\n",
        "\n",
        "silhouette = silhouette_score(merged_encoded_data, true_labels)\n",
        "print(\"Silhouette Score of AE output data with true labels:\", silhouette)\n",
        "\n",
        "silhouette = silhouette_score(merged_encoded_data, cluster_labels_encode)\n",
        "print(\"Silhouette Score of AE output data with cluster labels:\", silhouette)\n",
        "print()\n",
        "# Calculate Calinski-Harabasz index\n",
        "calinski_harabasz = calinski_harabasz_score(images, true_labels)\n",
        "print(\"Calinski-Harabasz Index of main data:\", calinski_harabasz)\n",
        "\n",
        "calinski_harabasz = calinski_harabasz_score(merged_encoded_data, true_labels)\n",
        "print(\"Calinski-Harabasz Index of AE output data with true labels:\", calinski_harabasz)\n",
        "\n",
        "calinski_harabasz = calinski_harabasz_score(merged_encoded_data, cluster_labels_encode)\n",
        "print(\"Calinski-Harabasz Index of AE output data with cluster labels:\", calinski_harabasz)\n",
        "\n",
        "print()\n",
        "\n",
        "# Calculate Davies-Bouldin index\n",
        "davies_bouldin = davies_bouldin_score(images, true_labels)\n",
        "print(\"Davies-Bouldin Index of main data:\", davies_bouldin)\n",
        "\n",
        "davies_bouldin = davies_bouldin_score(merged_encoded_data, true_labels)\n",
        "print(\"Davies-Bouldin Index of AE output data with true labels:\", davies_bouldin)\n",
        "\n",
        "davies_bouldin = davies_bouldin_score(merged_encoded_data, cluster_labels_encode)\n",
        "print(\"Davies-Bouldin Index of AE output data with cluster labels:\", davies_bouldin)\n"
      ],
      "metadata": {
        "id": "0ViQzsa3g5GL"
      },
      "execution_count": null,
      "outputs": []
    }
  ],
  "metadata": {
    "colab": {
      "provenance": []
    },
    "kernelspec": {
      "display_name": "Python 3",
      "name": "python3"
    },
    "language_info": {
      "name": "python"
    },
    "accelerator": "TPU"
  },
  "nbformat": 4,
  "nbformat_minor": 0
}